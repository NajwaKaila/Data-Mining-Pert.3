{
  "nbformat": 4,
  "nbformat_minor": 0,
  "metadata": {
    "colab": {
      "provenance": []
    },
    "kernelspec": {
      "name": "python3",
      "display_name": "Python 3"
    },
    "language_info": {
      "name": "python"
    }
  },
  "cells": [
    {
      "cell_type": "code",
      "execution_count": 1,
      "metadata": {
        "id": "UF1KBItsN6ai"
      },
      "outputs": [],
      "source": [
        "import pandas as pd\n",
        "import numpy as np\n",
        "from sklearn.impute import SimpleImputer\n",
        "from sklearn.compose import ColumnTransformer\n",
        "from sklearn.preprocessing import OneHotEncoder, LabelEncoder, StandardScaler\n",
        "from sklearn.model_selection import train_test_split"
      ]
    },
    {
      "cell_type": "code",
      "source": [
        "data = {\n",
        "    'Platform': ['Instagram', 'TikTok', 'Facebook', 'Instagram', 'TikTok', 'Facebook',\n",
        "                 'Instagram', 'TikTok', 'Facebook', 'Instagram', 'TikTok', 'Facebook'],\n",
        "    'Usia': [28, 35, 45, np.nan, 22, 50, 40, 30, 55, 25, 38, 42],\n",
        "    'Tayangan Iklan': [15000, 22000, 18000, 30000, 12000, 25000, 16000, 20000, 28000, np.nan, 21000, 19000],\n",
        "    'Target Kota': ['Jakarta', 'Surabaya', 'Bandung', 'Jakarta', np.nan, 'Surabaya',\n",
        "                    'Bandung', 'Jakarta', 'Surabaya', 'Bandung', 'Jakarta', 'Bandung'],\n",
        "    'Beli Produk': ['Ya', 'Ya', 'Tidak', 'Ya', 'Tidak', 'Ya', 'Tidak', 'Ya', np.nan, 'Tidak', 'Ya', 'Tidak']\n",
        "}\n",
        "dataset = pd.DataFrame(data)\n"
      ],
      "metadata": {
        "id": "yZp2SFrrRc0Y"
      },
      "execution_count": 2,
      "outputs": []
    },
    {
      "cell_type": "code",
      "source": [
        "X = dataset.iloc[:, :-1].values\n",
        "y = dataset.iloc[:, -1].values\n"
      ],
      "metadata": {
        "id": "0dyIxkMeRg_J"
      },
      "execution_count": 3,
      "outputs": []
    },
    {
      "cell_type": "code",
      "source": [
        "print(\"--- X Awal (dengan NaN dan Kategorikal) ---\")\n",
        "print(X)\n",
        "print(\"-\" * 50)"
      ],
      "metadata": {
        "colab": {
          "base_uri": "https://localhost:8080/"
        },
        "id": "K35IHnblRkdg",
        "outputId": "74357d0f-5d18-4fa4-8f28-dbdda0782c81"
      },
      "execution_count": 4,
      "outputs": [
        {
          "output_type": "stream",
          "name": "stdout",
          "text": [
            "--- X Awal (dengan NaN dan Kategorikal) ---\n",
            "[['Instagram' 28.0 15000.0 'Jakarta']\n",
            " ['TikTok' 35.0 22000.0 'Surabaya']\n",
            " ['Facebook' 45.0 18000.0 'Bandung']\n",
            " ['Instagram' nan 30000.0 'Jakarta']\n",
            " ['TikTok' 22.0 12000.0 nan]\n",
            " ['Facebook' 50.0 25000.0 'Surabaya']\n",
            " ['Instagram' 40.0 16000.0 'Bandung']\n",
            " ['TikTok' 30.0 20000.0 'Jakarta']\n",
            " ['Facebook' 55.0 28000.0 'Surabaya']\n",
            " ['Instagram' 25.0 nan 'Bandung']\n",
            " ['TikTok' 38.0 21000.0 'Jakarta']\n",
            " ['Facebook' 42.0 19000.0 'Bandung']]\n",
            "--------------------------------------------------\n"
          ]
        }
      ]
    },
    {
      "cell_type": "code",
      "source": [
        "# Imputasi pada kolom numerik: Usia (index 1) dan Tayangan Iklan (index 2)\n",
        "imputer_num = SimpleImputer(missing_values=np.nan, strategy='mean')\n",
        "X[:, [1, 2]] = imputer_num.fit_transform(X[:, [1, 2]])\n",
        "\n",
        "# Imputasi pada kolom kategorikal: Target Kota (index 3) dengan 'most_frequent'\n",
        "imputer_cat = SimpleImputer(missing_values=np.nan, strategy='most_frequent')\n",
        "X[:, [3]] = imputer_cat.fit_transform(X[:, [3]])\n"
      ],
      "metadata": {
        "id": "emT5gT17RiP7"
      },
      "execution_count": 5,
      "outputs": []
    },
    {
      "cell_type": "code",
      "source": [
        "# a. Encoding Fitur (X) - One-Hot Encoding\n",
        "# Kolom kategorikal: Platform (index 0) dan Target Kota (index 3)\n",
        "ct = ColumnTransformer(\n",
        "    transformers=[\n",
        "        ('encoder_platform', OneHotEncoder(), [0]),\n",
        "        ('encoder_city', OneHotEncoder(), [3])\n",
        "    ],\n",
        "    remainder='passthrough'\n",
        ")\n",
        "X = np.array(ct.fit_transform(X))\n",
        "\n",
        "# b. Encoding Target (y) - Label Encoding\n",
        "# Mengubah y menjadi list of string untuk memproses np.nan sebagai kategori terpisah\n",
        "y_list = [str(val) for val in y]\n",
        "le = LabelEncoder()\n",
        "y = le.fit_transform(y_list)\n",
        "\n",
        "print(\"--- X setelah Imputasi dan One-Hot Encoding ---\")\n",
        "print(X)\n",
        "print(\"-\" * 50)\n",
        "print(\"--- y setelah Label Encoding ---\")\n",
        "print(y)\n",
        "print(\"-\" * 50)"
      ],
      "metadata": {
        "colab": {
          "base_uri": "https://localhost:8080/"
        },
        "id": "7a25kpAMRvFS",
        "outputId": "d226f527-3d27-4456-d52a-6ffcf2b1c15d"
      },
      "execution_count": 6,
      "outputs": [
        {
          "output_type": "stream",
          "name": "stdout",
          "text": [
            "--- X setelah Imputasi dan One-Hot Encoding ---\n",
            "[[0.0 1.0 0.0 0.0 1.0 0.0 28.0 15000.0]\n",
            " [0.0 0.0 1.0 0.0 0.0 1.0 35.0 22000.0]\n",
            " [1.0 0.0 0.0 1.0 0.0 0.0 45.0 18000.0]\n",
            " [0.0 1.0 0.0 0.0 1.0 0.0 37.27272727272727 30000.0]\n",
            " [0.0 0.0 1.0 1.0 0.0 0.0 22.0 12000.0]\n",
            " [1.0 0.0 0.0 0.0 0.0 1.0 50.0 25000.0]\n",
            " [0.0 1.0 0.0 1.0 0.0 0.0 40.0 16000.0]\n",
            " [0.0 0.0 1.0 0.0 1.0 0.0 30.0 20000.0]\n",
            " [1.0 0.0 0.0 0.0 0.0 1.0 55.0 28000.0]\n",
            " [0.0 1.0 0.0 1.0 0.0 0.0 25.0 20545.454545454544]\n",
            " [0.0 0.0 1.0 0.0 1.0 0.0 38.0 21000.0]\n",
            " [1.0 0.0 0.0 1.0 0.0 0.0 42.0 19000.0]]\n",
            "--------------------------------------------------\n",
            "--- y setelah Label Encoding ---\n",
            "[1 1 0 1 0 1 0 1 2 0 1 0]\n",
            "--------------------------------------------------\n"
          ]
        }
      ]
    },
    {
      "cell_type": "code",
      "source": [
        "# --- 4. MEMISAHKAN DATA LATIH DAN DATA UJI ---\n",
        "X_train, X_test, y_train, y_test = train_test_split(X, y, test_size=0.2, random_state=1)"
      ],
      "metadata": {
        "id": "IPXqa4mORzM2"
      },
      "execution_count": 7,
      "outputs": []
    },
    {
      "cell_type": "code",
      "source": [
        "# --- 5. PENYEKALAAN FITUR (FEATURE SCALING) ---\n",
        "# Setelah OHE (3 platform + 3 kota = 6 kolom), kolom numerik (Usia, Tayangan Iklan)\n",
        "# berada di index 6 dan 7. Scaling diterapkan dari index 6 ke atas.\n",
        "sc = StandardScaler()\n",
        "\n",
        "# Fit dan transform hanya pada kolom numerik (index 6 ke atas) untuk Training Set\n",
        "X_train[:, 6:] = sc.fit_transform(X_train[:, 6:])\n",
        "\n",
        "# Transform hanya pada kolom numerik untuk Test Set\n",
        "X_test[:, 6:] = sc.transform(X_test[:, 6:])\n",
        "\n",
        "\n",
        "print(\"--- X_train Final setelah Feature Scaling (Kolom 6 & 7 sudah diskalakan) ---\")\n",
        "print(X_train)\n",
        "print(\"-\" * 50)\n",
        "\n",
        "print(\"--- X_test Final setelah Feature Scaling (Kolom 6 & 7 sudah diskalakan) ---\")\n",
        "print(X_test)"
      ],
      "metadata": {
        "colab": {
          "base_uri": "https://localhost:8080/"
        },
        "id": "ZDZUKh0jR20m",
        "outputId": "8151f7ec-6396-42f7-eded-8b9052f55d3a"
      },
      "execution_count": 8,
      "outputs": [
        {
          "output_type": "stream",
          "name": "stdout",
          "text": [
            "--- X_train Final setelah Feature Scaling (Kolom 6 & 7 sudah diskalakan) ---\n",
            "[[0.0 0.0 1.0 0.0 1.0 0.0 -0.011822941265748451 0.07133875802522895]\n",
            " [0.0 0.0 1.0 0.0 0.0 1.0 -0.33104235544094757 0.3329142041177322]\n",
            " [0.0 1.0 0.0 1.0 0.0 0.0 0.20099000151771762 -1.2365384724372874]\n",
            " [0.0 1.0 0.0 0.0 1.0 0.0 -1.0758876551830787 -1.4981139185297907]\n",
            " [0.0 0.0 1.0 0.0 1.0 0.0 -0.8630747123996128 -0.19023668806727434]\n",
            " [1.0 0.0 0.0 1.0 0.0 0.0 0.4138029443011837 -0.4518121341597776]\n",
            " [0.0 1.0 0.0 1.0 0.0 0.0 -1.3951070693582779 -0.04755917201681835]\n",
            " [1.0 0.0 0.0 0.0 0.0 1.0 1.7970870723937131 1.9023668806727518]\n",
            " [1.0 0.0 0.0 0.0 0.0 1.0 1.265054715435048 1.117640542395242]]\n",
            "--------------------------------------------------\n",
            "--- X_test Final setelah Feature Scaling (Kolom 6 & 7 sudah diskalakan) ---\n",
            "[[1.0 0.0 0.0 1.0 0.0 0.0 0.7330223584763828 -0.7133875802522809]\n",
            " [0.0 1.0 0.0 0.0 1.0 0.0 -0.0892094659142815 2.4255177728577584]\n",
            " [0.0 0.0 1.0 1.0 0.0 0.0 -1.714326483533477 -2.2828402568073005]]\n"
          ]
        }
      ]
    }
  ]
}